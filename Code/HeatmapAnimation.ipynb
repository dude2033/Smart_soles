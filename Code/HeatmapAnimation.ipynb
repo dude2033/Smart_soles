{
 "cells": [
  {
   "cell_type": "markdown",
   "metadata": {},
   "source": [
    "# **Imports**"
   ]
  },
  {
   "cell_type": "code",
   "execution_count": 10,
   "metadata": {},
   "outputs": [],
   "source": [
    "import numpy as np\n",
    "import matplotlib.pyplot as plt\n",
    "from scipy.interpolate import griddata\n",
    "from PIL import Image\n",
    "import pandas as pd\n",
    "import cv2\n",
    "import io"
   ]
  },
  {
   "cell_type": "markdown",
   "metadata": {},
   "source": [
    "# **IDs and Data-Path**"
   ]
  },
  {
   "cell_type": "code",
   "execution_count": 11,
   "metadata": {},
   "outputs": [],
   "source": [
    "ID_left = 'C6:22:F2:44:38:49'\n",
    "ID_right = 'FE:F7:D0:12:2E:8D'\n",
    "\n",
    "data_file_name = 'pt_2024-02-22 13:32:51.163741.csv'\n",
    "data_file_path = 'Data/'\n",
    "\n",
    "left_image_name = 'shoe_outline_left_with_sensors.png'\n",
    "right_image_name = 'shoe_outline_right_with_sensors.png'\n",
    "image_path = ''\n",
    "\n",
    "full_data_path = data_file_path + data_file_name\n",
    "full_image_path_left = image_path + left_image_name\n",
    "full_image_path_right = image_path + right_image_name"
   ]
  },
  {
   "cell_type": "markdown",
   "metadata": {},
   "source": [
    "# **Data Pruning**"
   ]
  },
  {
   "cell_type": "code",
   "execution_count": 12,
   "metadata": {},
   "outputs": [],
   "source": [
    "def parse_data_string(data_string):\n",
    "    values = data_string.replace('PS: [', '').replace(']', '').split(',')\n",
    "    data_array = np.array([np.abs(float(x)) for x in values] + [0.0, 0.0, 0.0, 0.0])\n",
    "    return data_array"
   ]
  },
  {
   "cell_type": "code",
   "execution_count": 13,
   "metadata": {},
   "outputs": [],
   "source": [
    "shoe_outline_right = Image.open(full_image_path_right)\n",
    "shoe_outline_left = Image.open(full_image_path_left)\n",
    "\n",
    "df = pd.read_csv(full_data_path)\n",
    "\n",
    "df_filtered = df[df['data'].str.contains(\"PS: \\[.*\\]\")].copy()\n",
    "\n",
    "df_filtered.loc[:, 'data_array'] = df_filtered['data'].apply(parse_data_string)\n",
    "\n",
    "df_right = df_filtered[df_filtered['deviceID'] == ID_right]\n",
    "df_left = df_filtered[df_filtered['deviceID'] == ID_left]\n",
    "\n",
    "len_right = len(df_right)\n",
    "len_left = len(df_left)\n",
    "\n",
    "if len_right > len_left:\n",
    "    df_right = df_right[:len_left]\n",
    "\n",
    "elif len_left > len_right:\n",
    "    df_left = df_left[:len_right]\n",
    "\n",
    "df_left = df_left.rename(columns={'data_array': 'data_array_left'})\n",
    "df_right = df_right.rename(columns={'data_array': 'data_array_right'})\n",
    "\n",
    "df_left = df_left.reset_index(drop=True)\n",
    "df_right = df_right.reset_index(drop=True)\n",
    "\n",
    "combined_data_array = pd.concat([df_left['data_array_left'], df_right['data_array_right']], axis=1)\n",
    "combined_data_array = combined_data_array.applymap(lambda x: [abs(i) for i in x])\n",
    "\n",
    "max_value = max(combined_data_array.values.flatten().max())"
   ]
  },
  {
   "cell_type": "markdown",
   "metadata": {},
   "source": [
    "# **Region settup and sensor locations**"
   ]
  },
  {
   "cell_type": "code",
   "execution_count": 14,
   "metadata": {},
   "outputs": [],
   "source": [
    "sensor_locations_pixels_left = np.array([(145, 513), (200, 200), (195, 78), (135, 190), \n",
    "                                        (83, 508), (85, 345), (65, 213), (103, 93)])\n",
    "\n",
    "\n",
    "roi_left, roi_top, roi_right, roi_bottom = (0, 0, shoe_outline_left.width, shoe_outline_left.height)\n",
    "\n",
    "x_grid_roi = np.linspace(roi_left, roi_right, 100)\n",
    "y_grid_roi = np.linspace(roi_top, roi_bottom, 100)\n",
    "x_mesh_roi, y_mesh_roi = np.meshgrid(x_grid_roi, y_grid_roi)\n",
    "\n",
    "sensor_locations_pixels_left[:, 1] = roi_bottom - sensor_locations_pixels_left[:, 1]\n",
    "\n",
    "corners = [(roi_left, roi_top), (roi_left, roi_bottom), (roi_right, roi_top), (roi_right, roi_bottom)]\n",
    "corners = np.array([(x, roi_bottom - y) for x, y in corners])  \n",
    "\n",
    "\n",
    "x_min = min(sensor_locations_pixels_left[:, 0])\n",
    "x_max = max(sensor_locations_pixels_left[:, 0])\n",
    "\n",
    "x_range = x_max - x_min\n",
    "x_min_new = x_min - x_range\n",
    "x_max_new = x_max + x_range\n",
    "\n",
    "corners[:, 0] = np.array([x_min_new, x_min_new, x_max_new, x_max_new])\n",
    "\n",
    "sensor_locations_pixels_left = np.concatenate([sensor_locations_pixels_left, corners])"
   ]
  },
  {
   "cell_type": "code",
   "execution_count": 15,
   "metadata": {},
   "outputs": [],
   "source": [
    "sensor_locations_pixels_right = np.array([(182, 510), (180, 345), (200, 213), (161, 92), (135, 185), \n",
    "                                        (120, 515), (65, 200), (72, 77)])\n",
    "\n",
    "roi_left, roi_top, roi_right, roi_bottom = (0, 0, shoe_outline_right.width, shoe_outline_right.height)\n",
    "\n",
    "x_grid_roi = np.linspace(roi_left, roi_right, 100)\n",
    "y_grid_roi = np.linspace(roi_top, roi_bottom, 100)\n",
    "x_mesh_roi, y_mesh_roi = np.meshgrid(x_grid_roi, y_grid_roi)\n",
    "\n",
    "sensor_locations_pixels_right[:, 1] = roi_bottom - sensor_locations_pixels_right[:, 1]\n",
    "\n",
    "corners = [(roi_left, roi_top), (roi_left, roi_bottom), (roi_right, roi_top), (roi_right, roi_bottom)]\n",
    "corners = np.array([(x, roi_bottom - y) for x, y in corners])  \n",
    "\n",
    "\n",
    "x_min = min(sensor_locations_pixels_right[:, 0])\n",
    "x_max = max(sensor_locations_pixels_right[:, 0])\n",
    "\n",
    "x_range = x_max - x_min\n",
    "x_min_new = x_min - x_range\n",
    "x_max_new = x_max + x_range\n",
    "\n",
    "corners[:, 0] = np.array([x_min_new, x_min_new, x_max_new, x_max_new])\n",
    "\n",
    "sensor_locations_pixels_right = np.concatenate([sensor_locations_pixels_right, corners])"
   ]
  },
  {
   "cell_type": "markdown",
   "metadata": {},
   "source": [
    "# **Tests**"
   ]
  },
  {
   "cell_type": "code",
   "execution_count": 16,
   "metadata": {},
   "outputs": [
    {
     "data": {
      "text/plain": [
       "'\\npressure_readings = np.array([0,0,0,0,0,0,0,1])\\n\\ncorner_pressures = np.zeros(4)\\npressure_readings = np.concatenate([pressure_readings, corner_pressures])\\n\\ninterpolated_pressure_roi = griddata(sensor_locations_pixels_left, pressure_readings,\\n                                     (x_mesh_roi, y_mesh_roi), method=\\'cubic\\')\\n\\nfor i, (x, y) in enumerate(sensor_locations_pixels_left):\\n    plt.text(x, y, str(i+1), color=\\'black\\', ha=\\'center\\', va=\\'center\\')\\n\\nplt.imshow(interpolated_pressure_roi, cmap=\\'coolwarm\\', origin=\\'lower\\', vmin=0.0, vmax=max_value,\\n           extent=(roi_left, roi_right, roi_top, roi_bottom))\\n\\nplt.imshow(shoe_outline_left, extent=(roi_left, roi_right, roi_top, roi_bottom), alpha=1)\\n\\nplt.axis(\"off\")\\n\\nplt.savefig(f\\'heatmap_first_left.png\\')\\n'"
      ]
     },
     "execution_count": 16,
     "metadata": {},
     "output_type": "execute_result"
    }
   ],
   "source": [
    "\"\"\"\n",
    "pressure_readings = np.array([0,0,0,0,0,0,0,1])\n",
    "\n",
    "corner_pressures = np.zeros(4)\n",
    "pressure_readings = np.concatenate([pressure_readings, corner_pressures])\n",
    "\n",
    "interpolated_pressure_roi = griddata(sensor_locations_pixels_left, pressure_readings,\n",
    "                                     (x_mesh_roi, y_mesh_roi), method='cubic')\n",
    "\n",
    "for i, (x, y) in enumerate(sensor_locations_pixels_left):\n",
    "    plt.text(x, y, str(i+1), color='black', ha='center', va='center')\n",
    "\n",
    "plt.imshow(interpolated_pressure_roi, cmap='coolwarm', origin='lower', vmin=0.0, vmax=max_value,\n",
    "           extent=(roi_left, roi_right, roi_top, roi_bottom))\n",
    "\n",
    "plt.imshow(shoe_outline_left, extent=(roi_left, roi_right, roi_top, roi_bottom), alpha=1)\n",
    "\n",
    "plt.axis(\"off\")\n",
    "\n",
    "plt.savefig(f'heatmap_first_left.png')\n",
    "\"\"\"\n"
   ]
  },
  {
   "cell_type": "code",
   "execution_count": 17,
   "metadata": {},
   "outputs": [
    {
     "data": {
      "text/plain": [
       "'\\npressure_readings = np.array([0,0,0,0,0,0,0,1])\\n\\ncorner_pressures = np.zeros(4)\\npressure_readings = np.concatenate([pressure_readings, corner_pressures])\\n\\ninterpolated_pressure_roi = griddata(sensor_locations_pixels_right, pressure_readings,\\n                                     (x_mesh_roi, y_mesh_roi), method=\\'cubic\\')\\n\\n\\nfor i, (x, y) in enumerate(sensor_locations_pixels_right):\\n    plt.text(x, y, str(i+1), color=\\'black\\', ha=\\'center\\', va=\\'center\\')\\n\\nplt.imshow(interpolated_pressure_roi, cmap=\\'coolwarm\\', origin=\\'lower\\', vmax=max_value, \\n           extent=(roi_left, roi_right, roi_top, roi_bottom))\\n\\nplt.imshow(shoe_outline_right, extent=(roi_left, roi_right, roi_top, roi_bottom), alpha=1)\\n\\nplt.axis(\"off\")\\n'"
      ]
     },
     "execution_count": 17,
     "metadata": {},
     "output_type": "execute_result"
    }
   ],
   "source": [
    "\"\"\"\n",
    "pressure_readings = np.array([0,0,0,0,0,0,0,1])\n",
    "\n",
    "corner_pressures = np.zeros(4)\n",
    "pressure_readings = np.concatenate([pressure_readings, corner_pressures])\n",
    "\n",
    "interpolated_pressure_roi = griddata(sensor_locations_pixels_right, pressure_readings,\n",
    "                                     (x_mesh_roi, y_mesh_roi), method='cubic')\n",
    "\n",
    "\n",
    "for i, (x, y) in enumerate(sensor_locations_pixels_right):\n",
    "    plt.text(x, y, str(i+1), color='black', ha='center', va='center')\n",
    "\n",
    "plt.imshow(interpolated_pressure_roi, cmap='coolwarm', origin='lower', vmax=max_value, \n",
    "           extent=(roi_left, roi_right, roi_top, roi_bottom))\n",
    "\n",
    "plt.imshow(shoe_outline_right, extent=(roi_left, roi_right, roi_top, roi_bottom), alpha=1)\n",
    "\n",
    "plt.axis(\"off\")\n",
    "\"\"\""
   ]
  },
  {
   "cell_type": "markdown",
   "metadata": {},
   "source": [
    "# **Creating the Video**"
   ]
  },
  {
   "cell_type": "code",
   "execution_count": 18,
   "metadata": {},
   "outputs": [
    {
     "ename": "KeyboardInterrupt",
     "evalue": "",
     "output_type": "error",
     "traceback": [
      "\u001b[0;31m---------------------------------------------------------------------------\u001b[0m",
      "\u001b[0;31mKeyboardInterrupt\u001b[0m                         Traceback (most recent call last)",
      "Cell \u001b[0;32mIn[18], line 16\u001b[0m\n\u001b[1;32m     13\u001b[0m data_left \u001b[38;5;241m=\u001b[39m row[\u001b[38;5;124m'\u001b[39m\u001b[38;5;124mdata_array_left\u001b[39m\u001b[38;5;124m'\u001b[39m]\n\u001b[1;32m     14\u001b[0m data_right \u001b[38;5;241m=\u001b[39m row[\u001b[38;5;124m'\u001b[39m\u001b[38;5;124mdata_array_right\u001b[39m\u001b[38;5;124m'\u001b[39m]\n\u001b[0;32m---> 16\u001b[0m interpolated_pressure_roi_left \u001b[38;5;241m=\u001b[39m \u001b[43mgriddata\u001b[49m\u001b[43m(\u001b[49m\u001b[43msensor_locations_pixels_left\u001b[49m\u001b[43m,\u001b[49m\u001b[43m \u001b[49m\u001b[43mdata_left\u001b[49m\u001b[43m,\u001b[49m\n\u001b[1;32m     17\u001b[0m \u001b[43m                                          \u001b[49m\u001b[43m(\u001b[49m\u001b[43mx_mesh_roi\u001b[49m\u001b[43m,\u001b[49m\u001b[43m \u001b[49m\u001b[43my_mesh_roi\u001b[49m\u001b[43m)\u001b[49m\u001b[43m,\u001b[49m\u001b[43m \u001b[49m\u001b[43mmethod\u001b[49m\u001b[38;5;241;43m=\u001b[39;49m\u001b[38;5;124;43m'\u001b[39;49m\u001b[38;5;124;43mcubic\u001b[39;49m\u001b[38;5;124;43m'\u001b[39;49m\u001b[43m)\u001b[49m\n\u001b[1;32m     19\u001b[0m interpolated_pressure_roi_right \u001b[38;5;241m=\u001b[39m griddata(sensor_locations_pixels_right, data_right,\n\u001b[1;32m     20\u001b[0m                                            (x_mesh_roi, y_mesh_roi), method\u001b[38;5;241m=\u001b[39m\u001b[38;5;124m'\u001b[39m\u001b[38;5;124mcubic\u001b[39m\u001b[38;5;124m'\u001b[39m)\n\u001b[1;32m     23\u001b[0m plt\u001b[38;5;241m.\u001b[39mimshow(interpolated_pressure_roi_left, cmap\u001b[38;5;241m=\u001b[39m\u001b[38;5;124m'\u001b[39m\u001b[38;5;124mcoolwarm\u001b[39m\u001b[38;5;124m'\u001b[39m, origin\u001b[38;5;241m=\u001b[39m\u001b[38;5;124m'\u001b[39m\u001b[38;5;124mlower\u001b[39m\u001b[38;5;124m'\u001b[39m, vmax\u001b[38;5;241m=\u001b[39mmax_value,\n\u001b[1;32m     24\u001b[0m            extent\u001b[38;5;241m=\u001b[39m(roi_left, roi_right, roi_top, roi_bottom))\n",
      "File \u001b[0;32m~/.local/lib/python3.10/site-packages/scipy/interpolate/_ndgriddata.py:329\u001b[0m, in \u001b[0;36mgriddata\u001b[0;34m(points, values, xi, method, fill_value, rescale)\u001b[0m\n\u001b[1;32m    326\u001b[0m \u001b[38;5;28;01melif\u001b[39;00m method \u001b[38;5;241m==\u001b[39m \u001b[38;5;124m'\u001b[39m\u001b[38;5;124mcubic\u001b[39m\u001b[38;5;124m'\u001b[39m \u001b[38;5;129;01mand\u001b[39;00m ndim \u001b[38;5;241m==\u001b[39m \u001b[38;5;241m2\u001b[39m:\n\u001b[1;32m    327\u001b[0m     ip \u001b[38;5;241m=\u001b[39m CloughTocher2DInterpolator(points, values, fill_value\u001b[38;5;241m=\u001b[39mfill_value,\n\u001b[1;32m    328\u001b[0m                                     rescale\u001b[38;5;241m=\u001b[39mrescale)\n\u001b[0;32m--> 329\u001b[0m     \u001b[38;5;28;01mreturn\u001b[39;00m \u001b[43mip\u001b[49m\u001b[43m(\u001b[49m\u001b[43mxi\u001b[49m\u001b[43m)\u001b[49m\n\u001b[1;32m    330\u001b[0m \u001b[38;5;28;01melse\u001b[39;00m:\n\u001b[1;32m    331\u001b[0m     \u001b[38;5;28;01mraise\u001b[39;00m \u001b[38;5;167;01mValueError\u001b[39;00m(\u001b[38;5;124m\"\u001b[39m\u001b[38;5;124mUnknown interpolation method \u001b[39m\u001b[38;5;132;01m%r\u001b[39;00m\u001b[38;5;124m for \u001b[39m\u001b[38;5;124m\"\u001b[39m\n\u001b[1;32m    332\u001b[0m                      \u001b[38;5;124m\"\u001b[39m\u001b[38;5;132;01m%d\u001b[39;00m\u001b[38;5;124m dimensional data\u001b[39m\u001b[38;5;124m\"\u001b[39m \u001b[38;5;241m%\u001b[39m (method, ndim))\n",
      "File \u001b[0;32minterpnd.pyx:192\u001b[0m, in \u001b[0;36mscipy.interpolate.interpnd.NDInterpolatorBase.__call__\u001b[0;34m()\u001b[0m\n",
      "File \u001b[0;32minterpnd.pyx:969\u001b[0m, in \u001b[0;36mscipy.interpolate.interpnd.CloughTocher2DInterpolator._evaluate_double\u001b[0;34m()\u001b[0m\n",
      "File \u001b[0;32minterpnd.pyx:990\u001b[0m, in \u001b[0;36mscipy.interpolate.interpnd.CloughTocher2DInterpolator._do_evaluate\u001b[0;34m()\u001b[0m\n",
      "File \u001b[0;32minterpnd.pyx:172\u001b[0m, in \u001b[0;36mscipy.interpolate.interpnd.NDInterpolatorBase._find_simplicies\u001b[0;34m()\u001b[0m\n",
      "File \u001b[0;32m~/.local/lib/python3.10/site-packages/numpy/lib/function_base.py:869\u001b[0m, in \u001b[0;36m_copy_dispatcher\u001b[0;34m(a, order, subok)\u001b[0m\n\u001b[1;32m    864\u001b[0m         np\u001b[38;5;241m.\u001b[39mcopyto(result, choice, where\u001b[38;5;241m=\u001b[39mcond)\n\u001b[1;32m    866\u001b[0m     \u001b[38;5;28;01mreturn\u001b[39;00m result\n\u001b[0;32m--> 869\u001b[0m \u001b[38;5;28;01mdef\u001b[39;00m \u001b[38;5;21m_copy_dispatcher\u001b[39m(a, order\u001b[38;5;241m=\u001b[39m\u001b[38;5;28;01mNone\u001b[39;00m, subok\u001b[38;5;241m=\u001b[39m\u001b[38;5;28;01mNone\u001b[39;00m):\n\u001b[1;32m    870\u001b[0m     \u001b[38;5;28;01mreturn\u001b[39;00m (a,)\n\u001b[1;32m    873\u001b[0m \u001b[38;5;129m@array_function_dispatch\u001b[39m(_copy_dispatcher)\n\u001b[1;32m    874\u001b[0m \u001b[38;5;28;01mdef\u001b[39;00m \u001b[38;5;21mcopy\u001b[39m(a, order\u001b[38;5;241m=\u001b[39m\u001b[38;5;124m'\u001b[39m\u001b[38;5;124mK\u001b[39m\u001b[38;5;124m'\u001b[39m, subok\u001b[38;5;241m=\u001b[39m\u001b[38;5;28;01mFalse\u001b[39;00m):\n",
      "\u001b[0;31mKeyboardInterrupt\u001b[0m: "
     ]
    }
   ],
   "source": [
    "output_video_path = 'heatmap_animation.mp4' \n",
    "frame_rate = 30\n",
    "first_image = cv2.imread('heatmap_first_left.png')  \n",
    "height, width, layers = first_image.shape\n",
    "crop = 225\n",
    "video = cv2.VideoWriter(output_video_path, cv2.VideoWriter_fourcc(*'mp4v'), frame_rate, ((width-crop) * 2, height))\n",
    "\n",
    "\n",
    "padding_width = 10\n",
    "\n",
    "for index, row in combined_data_array.iterrows():\n",
    "    \n",
    "    data_left = row['data_array_left']\n",
    "    data_right = row['data_array_right']\n",
    "    \n",
    "    interpolated_pressure_roi_left = griddata(sensor_locations_pixels_left, data_left,\n",
    "                                              (x_mesh_roi, y_mesh_roi), method='cubic')\n",
    "    \n",
    "    interpolated_pressure_roi_right = griddata(sensor_locations_pixels_right, data_right,\n",
    "                                               (x_mesh_roi, y_mesh_roi), method='cubic')\n",
    "    \n",
    "\n",
    "    plt.imshow(interpolated_pressure_roi_left, cmap='coolwarm', origin='lower', vmax=max_value,\n",
    "               extent=(roi_left, roi_right, roi_top, roi_bottom))\n",
    "    plt.imshow(shoe_outline_left, extent=(roi_left, roi_right, roi_top, roi_bottom), alpha=1)\n",
    "    plt.axis(\"off\")\n",
    "    \n",
    "    \n",
    "    buf_left = io.BytesIO()\n",
    "    plt.savefig(buf_left, format='png')\n",
    "    buf_left.seek(0)\n",
    "    heatmap_img_left = cv2.imdecode(np.frombuffer(buf_left.getvalue(), dtype=np.uint8), 1)\n",
    "    buf_left.close()\n",
    "    plt.close()\n",
    "    \n",
    "    heatmap_img_left_bgr = cv2.cvtColor(heatmap_img_left, cv2.COLOR_RGBA2BGR)\n",
    "    \n",
    "   \n",
    "    plt.imshow(interpolated_pressure_roi_right, cmap='coolwarm', origin='lower', vmax=max_value,\n",
    "               extent=(roi_left, roi_right, roi_top, roi_bottom))\n",
    "    plt.imshow(shoe_outline_right, extent=(roi_left, roi_right, roi_top, roi_bottom), alpha=1)\n",
    "    plt.axis(\"off\")\n",
    "    \n",
    "\n",
    "    buf_right = io.BytesIO()\n",
    "    plt.savefig(buf_right, format='png')\n",
    "    buf_right.seek(0)\n",
    "    heatmap_img_right = cv2.imdecode(np.frombuffer(buf_right.getvalue(), dtype=np.uint8), 1)\n",
    "    buf_right.close()\n",
    "    plt.close()\n",
    "    \n",
    "    heatmap_img_right_bgr = cv2.cvtColor(heatmap_img_right, cv2.COLOR_RGBA2BGR)\n",
    "\n",
    "    heatmap_img_left = heatmap_img_left[:, :-crop]\n",
    "    heatmap_img_right = heatmap_img_right[:, crop:]\n",
    "    \n",
    "    height = max(heatmap_img_left.shape[0], heatmap_img_right.shape[0])\n",
    "    heatmap_img_left = cv2.resize(heatmap_img_left, (int(heatmap_img_left.shape[1] * height / heatmap_img_left.shape[0]), height))\n",
    "    heatmap_img_right = cv2.resize(heatmap_img_right, (int(heatmap_img_right.shape[1] * height / heatmap_img_right.shape[0]), height))\n",
    "\n",
    "    combined_image = cv2.hconcat([heatmap_img_left, heatmap_img_right])\n",
    "\n",
    "    \n",
    "    video.write(combined_image)\n",
    "\n",
    "cv2.destroyAllWindows()\n",
    "video.release()\n",
    "print(\"Video created successfully.\")\n"
   ]
  }
 ],
 "metadata": {
  "kernelspec": {
   "display_name": "Python 3",
   "language": "python",
   "name": "python3"
  },
  "language_info": {
   "codemirror_mode": {
    "name": "ipython",
    "version": 3
   },
   "file_extension": ".py",
   "mimetype": "text/x-python",
   "name": "python",
   "nbconvert_exporter": "python",
   "pygments_lexer": "ipython3",
   "version": "3.10.12"
  }
 },
 "nbformat": 4,
 "nbformat_minor": 2
}
